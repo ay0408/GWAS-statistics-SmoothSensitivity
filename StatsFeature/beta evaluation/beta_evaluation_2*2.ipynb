{
 "cells": [
  {
   "cell_type": "code",
   "execution_count": 1,
   "metadata": {},
   "outputs": [],
   "source": [
    "import numpy as np\n",
    "import math\n",
    "from scipy import integrate\n",
    "import matplotlib.pyplot as plt\n",
    "import random\n",
    "import time"
   ]
  },
  {
   "cell_type": "code",
   "execution_count": 2,
   "metadata": {},
   "outputs": [],
   "source": [
    "def chi2(a,b,c,d):\n",
    "    if a+b == 0:\n",
    "        return (c-d)**2/(c+d)\n",
    "    elif c+d == 0:\n",
    "        return (a-b)**2/(a+b)\n",
    "    else:\n",
    "        return ((a-b)**2)/(a+b) + ((c-d)**2)/(c+d)"
   ]
  },
  {
   "cell_type": "code",
   "execution_count": 3,
   "metadata": {},
   "outputs": [],
   "source": [
    "def LS(a,b,c,d): #local sensitivity\n",
    "    stat = chi2(a,b,c,d); t = np.zeros(0)\n",
    "    M = chi2(a,b,c,d); m = chi2(a,b,c,d)\n",
    "    if a >= 2:\n",
    "        t = [chi2(a-2,b+2,c,d), chi2(a-2,b+1,c+1,d), chi2(a-2,b+1,c,d+1), chi2(a-2,b,c+2,d), chi2(a-2,b,c+1,d+1),\n",
    "             chi2(a-2,b,c,d+2)]\n",
    "        M = max([max(t),M])\n",
    "        m = min([min(t),m])\n",
    "    if b >= 2:\n",
    "        t = [chi2(a+2,b-2,c,d), chi2(a+1,b-2,c+1,d), chi2(a+1,b-2,c,d+1), chi2(a,b-2,c+2,d), chi2(a,b-2,c+1,d+1),\n",
    "             chi2(a,b-2,c,d+2)]\n",
    "        M = max([max(t),M])\n",
    "        m = min([min(t),m])\n",
    "    if c >= 2:\n",
    "        t = [chi2(a+2,b,c-2,d), chi2(a+1,b+1,c-2,d), chi2(a+1,b,c-2,d+1), chi2(a,b+2,c-2,d), chi2(a,b+1,c-2,d+1),\n",
    "             chi2(a,b,c-2,d+2)]\n",
    "        M = max([max(t),M])\n",
    "        m = min([min(t),m])\n",
    "    if d >= 2:\n",
    "        t = [chi2(a+2,b,c,d-2), chi2(a+1,b+1,c,d-2), chi2(a+1,b,c+1,d-2), chi2(a,b+2,c,d-2), chi2(a,b+1,c+1,d-2),\n",
    "             chi2(a,b,c+2,d-2)]\n",
    "        M = max([max(t),M])\n",
    "        m = min([min(t),m])\n",
    "    if a >= 1 and b >= 1:\n",
    "        t = [chi2(a-1,b-1,c+2,d), chi2(a-1,b-1,c+1,d+1), chi2(a-1,b-1,c,d+2)]\n",
    "        M = max([max(t),M])\n",
    "        m = min([min(t),m])\n",
    "    if a >= 1 and c >= 1:\n",
    "        t = [chi2(a-1,b+2,c-1,d), chi2(a-1,b+1,c-1,d+1), chi2(a-1,b,c-1,d+2)]\n",
    "        M = max([max(t),M])\n",
    "        m = min([min(t),m])\n",
    "    if a >= 1 and d >= 1:\n",
    "        t = [chi2(a-1,b+2,c,d-1), chi2(a-1,b+1,c+1,d-1), chi2(a-1,b,c+2,d-1)]\n",
    "        M = max([max(t),M])\n",
    "        m = min([min(t),m])\n",
    "    if b >= 1 and c >= 1:\n",
    "        t = [chi2(a+2,b-1,c-1,d), chi2(a+1,b-1,c-1,d+1), chi2(a,b-1,c-1,d+2)]\n",
    "        M = max([max(t),M])\n",
    "        m = min([min(t),m])\n",
    "    if b >= 1 and d >= 1:\n",
    "        t = [chi2(a+2,b-1,c,d-1), chi2(a+1,b-1,c+1,d-1), chi2(a,b-1,c+2,d-1)]\n",
    "        M = max([max(t),M])\n",
    "        m = min([min(t),m])\n",
    "    if c >= 1 and d >= 1:\n",
    "        t = [chi2(a+2,b,c-1,d-1), chi2(a+1,b+1,c-1,d-1), chi2(a,b+2,c-1,d-1)]\n",
    "        M = max([max(t),M])\n",
    "        m = min([min(t),m])\n",
    "    if a >= 1:\n",
    "        t = [chi2(a-1,b+1,c,d), chi2(a-1,b,c+1,d), chi2(a-1,b,c,d+1)]\n",
    "        M = max([max(t),M])\n",
    "        m = min([min(t),m])\n",
    "    if b >= 1:\n",
    "        t = [chi2(a+1,b-1,c,d), chi2(a,b-1,c+1,d), chi2(a,b-1,c,d+1)]\n",
    "        M = max([max(t),M])\n",
    "        m = min([min(t),m])\n",
    "    if c >= 1:\n",
    "        t = [chi2(a+1,b,c-1,d), chi2(a,b+1,c-1,d), chi2(a,b,c-1,d+1)]\n",
    "        M = max([max(t),M])\n",
    "        m = min([min(t),m])\n",
    "    if d >= 1:\n",
    "        t = [chi2(a+1,b,c,d-1), chi2(a,b+1,c,d-1), chi2(a,b,c+1,d-1)]\n",
    "        M = max([max(t),M])\n",
    "        m = min([min(t),m])\n",
    "    \n",
    "    return max([M-stat, stat-m])"
   ]
  },
  {
   "cell_type": "code",
   "execution_count": 4,
   "metadata": {},
   "outputs": [],
   "source": [
    "def LS_all(n):\n",
    "    t = int(2*n)\n",
    "    ls = np.zeros((t+1,t+1,t+1))\n",
    "    for a in range(t+1):\n",
    "        for b in range(t-a+1):\n",
    "            for c in range(t-a-b+1):\n",
    "                d = t-a-b-c\n",
    "                if a+b >= c+d and a+c >= b+d:\n",
    "                    ls[a][b][c] = LS(a,b,c,d)\n",
    "    for a in range(t+1):\n",
    "        for b in range(t-a+1):\n",
    "            for c in range(t-a-b+1):\n",
    "                d = t-a-b-c\n",
    "                if a+b < c+d and a+c >= b+d:\n",
    "                    ls[a][b][c] = ls[c][d][a]\n",
    "                elif a+b >= c+d and a+c < b+d:\n",
    "                    ls[a][b][c] = ls[b][a][d]\n",
    "                elif a+b < c+d and a+c < b+d:\n",
    "                    ls[a][b][c] = ls[d][c][b]\n",
    "    return ls"
   ]
  },
  {
   "cell_type": "code",
   "execution_count": 5,
   "metadata": {},
   "outputs": [],
   "source": [
    "def S(n): #max_{x,y}(LS(x)/LS(y))\n",
    "    t = int(2*n); ls = LS_all(n)\n",
    "    s = 1\n",
    "    for a in range(t+1):\n",
    "        for b in range(t-a+1):\n",
    "            for c in range(t-a-b+1):\n",
    "                d = t-a-b-c\n",
    "                if a+b >= c+d and a+c >= b+d:\n",
    "                    ss = ls[a][b][c]\n",
    "                    if a >= 2:\n",
    "                        ss = max([ls[a-2][b+2][c], ls[a-2][b+1][c+1], ls[a-2][b+1][c], ls[a-2][b][c+2], \n",
    "                                  ls[a-2][b][c+1], ls[a-2][b][c], ss])\n",
    "                    if b >= 2:\n",
    "                        ss = max([ls[a+2][b-2][c], ls[a+1][b-2][c+1], ls[a+1][b-2][c], ls[a][b-2][c+2], \n",
    "                                  ls[a][b-2][c+1], ls[a][b-2][c], ss])\n",
    "                    if c >= 2:\n",
    "                        ss = max([ls[a+2][b][c-2], ls[a+1][b+1][c-2], ls[a+1][b][c-2], ls[a][b+2][c-2], \n",
    "                                  ls[a][b+1][c-2], ls[a][b][c-2], ss])\n",
    "                    if d >= 2:\n",
    "                        ss = max([ls[a+2][b][c], ls[a+1][b+1][c], ls[a+1][b][c+1], ls[a][b+2][c], \n",
    "                                  ls[a][b+1][c+1], ls[a][b][c+2], ss])\n",
    "                    if a >= 1 and b >= 1:\n",
    "                        ss = max([ls[a-1][b-1][c+2], ls[a-1][b-1][c+1], ls[a-1][b-1][c], ss])\n",
    "                    if a >= 1 and c >= 1:\n",
    "                        ss = max([ls[a-1][b+2][c-1], ls[a-1][b+1][c-1], ls[a-1][b][c-1], ss])\n",
    "                    if a >= 1 and d >= 1:\n",
    "                        ss = max([ls[a-1][b+2][c], ls[a-1][b+1][c+1], ls[a-1][b][c+2], ss])\n",
    "                    if b >= 1 and c >= 1:\n",
    "                        ss = max([ls[a+2][b-1][c-1], ls[a+1][b-1][c-1], ls[a][b-1][c-1], ss])\n",
    "                    if b >= 1 and d >= 1:\n",
    "                        ss = max([ls[a+2][b-1][c], ls[a+1][b-1][c+1], ls[a][b-1][c+2], ss])\n",
    "                    if c >= 1 and d >= 1:\n",
    "                        ss = max([ls[a+2][b][c-1], ls[a+1][b+1][c-1], ls[a][b+2][c-1], ss])\n",
    "                    if a >= 1:\n",
    "                        ss = max([ls[a-1][b+1][c], ls[a-1][b][c+1], ls[a-1][b][c], ss])\n",
    "                    if b >= 1:\n",
    "                        ss = max([ls[a+1][b-1][c], ls[a][b-1][c+1], ls[a][b-1][c], ss])\n",
    "                    if c >= 1:\n",
    "                        ss = max([ls[a+1][b][c-1], ls[a][b+1][c-1], ls[a][b][c-1], ss])\n",
    "                    if d >= 1:\n",
    "                        ss = max([ls[a+1][b][c], ls[a][b+1][c], ls[a][b][c+1], ss])\n",
    "                    s = max([ss/ls[a][b][c], s])\n",
    "    return s"
   ]
  },
  {
   "cell_type": "code",
   "execution_count": 6,
   "metadata": {},
   "outputs": [
    {
     "data": {
      "image/png": "[encoded data removed]",
      "text/plain": [
       "<Figure size 432x288 with 1 Axes>"
      ]
     },
     "metadata": {
      "needs_background": "light"
     },
     "output_type": "display_data"
    }
   ],
   "source": [
    "maxR = np.zeros(80); index = np.zeros(80)\n",
    "\n",
    "for i in range(80):\n",
    "    maxR[i] = S(i+1)\n",
    "    index[i] = i+1\n",
    "\n",
    "fig = plt.figure()\n",
    "plt.ylim(-0.1, 3.2)\n",
    "plt.xlim(-1, 81)\n",
    "plt.hlines(3,-1,81,color=\"black\", linestyle = \"dashed\")\n",
    "plt.plot(index, maxR, marker=\"o\", markersize=5, color = \"blue\", linestyle = \"-\")\n",
    "plt.xlabel(\"Number of individuals\", fontsize = 18)\n",
    "plt.ylabel(\"Max of LS(x')/LS(x)\", fontsize = 18)\n",
    "fig.savefig(\"goodBeta_2*2.png\")\n",
    "fig.savefig(\"figs/goodBeta_2*2.eps\", bbox_inches=\"tight\", pad_inches=0.05)"
   ]
  },
  {
   "cell_type": "code",
   "execution_count": null,
   "metadata": {},
   "outputs": [],
   "source": []
  }
 ],
 "metadata": {
  "kernelspec": {
   "display_name": "Python 3",
   "language": "python",
   "name": "python3"
  },
  "language_info": {
   "codemirror_mode": {
    "name": "ipython",
    "version": 3
   },
   "file_extension": ".py",
   "mimetype": "text/x-python",
   "name": "python",
   "nbconvert_exporter": "python",
   "pygments_lexer": "ipython3",
   "version": "3.9.0"
  }
 },
 "nbformat": 4,
 "nbformat_minor": 4
}
