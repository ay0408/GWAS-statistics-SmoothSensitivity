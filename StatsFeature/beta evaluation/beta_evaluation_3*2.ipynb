{
 "cells": [
  {
   "cell_type": "code",
   "execution_count": 1,
   "metadata": {},
   "outputs": [],
   "source": [
    "import numpy as np\n",
    "import math\n",
    "from scipy import integrate\n",
    "import matplotlib.pyplot as plt\n",
    "import random\n",
    "import time"
   ]
  },
  {
   "cell_type": "code",
   "execution_count": 2,
   "metadata": {},
   "outputs": [],
   "source": [
    "def chi2(p,q,r,s,t,u):\n",
    "    stat = 0\n",
    "    if p+q != 0:\n",
    "        stat += (p-q)**2/(p+q)\n",
    "    if r+s != 0:\n",
    "        stat += (r-s)**2/(r+s)\n",
    "    if t+u != 0:\n",
    "        stat += (t-u)**2/(t+u)\n",
    "    return stat"
   ]
  },
  {
   "cell_type": "code",
   "execution_count": 3,
   "metadata": {},
   "outputs": [],
   "source": [
    "def LS(p,q,r,s,t,u): #local sensitivity\n",
    "    stat = chi2(p,q,r,s,t,u); v = np.zeros(0)\n",
    "    M = chi2(p,q,r,s,t,u); m = chi2(p,q,r,s,t,u)\n",
    "    if p >= 1:\n",
    "        v = [chi2(p-1,q+1,r,s,t,u), chi2(p-1,q,r+1,s,t,u), chi2(p-1,q,r,s+1,t,u), \n",
    "             chi2(p-1,q,r,s,t+1,u), chi2(p-1,q,r,s,t,u+1)]\n",
    "        M = max([max(v),M])\n",
    "        m = min([min(v),m])\n",
    "    if q >= 1:\n",
    "        v = [chi2(p+1,q-1,r,s,t,u), chi2(p,q-1,r+1,s,t,u), chi2(p,q-1,r,s+1,t,u), \n",
    "             chi2(p,q-1,r,s,t+1,u), chi2(p,q-1,r,s,t,u+1)]\n",
    "        M = max([max(v),M])\n",
    "        m = min([min(v),m])\n",
    "    if r >= 1:\n",
    "        v = [chi2(p+1,q,r-1,s,t,u), chi2(p,q+1,r-1,s,t,u), chi2(p,q,r-1,s+1,t,u), \n",
    "             chi2(p,q,r-1,s,t+1,u), chi2(p,q,r-1,s,t,u+1)]\n",
    "        M = max([max(v),M])\n",
    "        m = min([min(v),m])\n",
    "    if s >= 1:\n",
    "        v = [chi2(p+1,q,r,s-1,t,u), chi2(p,q+1,r,s-1,t,u), chi2(p,q,r+1,s-1,t,u), \n",
    "             chi2(p,q,r,s-1,t+1,u), chi2(p,q,r,s-1,t,u+1)]\n",
    "        M = max([max(v),M])\n",
    "        m = min([min(v),m])\n",
    "    if t >= 1:\n",
    "        v = [chi2(p+1,q,r,s,t-1,u), chi2(p,q+1,r,s,t-1,u), chi2(p,q,r+1,s,t-1,u), \n",
    "             chi2(p,q,r,s+1,t-1,u), chi2(p,q,r,s,t-1,u+1)]\n",
    "        M = max([max(v),M])\n",
    "        m = min([min(v),m])\n",
    "    if u >= 1:\n",
    "        v = [chi2(p+1,q,r,s,t,u-1), chi2(p,q+1,r,s,t,u-1), chi2(p,q,r+1,s,t,u-1), \n",
    "             chi2(p,q,r,s+1,t,u-1), chi2(p,q,r,s,t+1,u-1)]\n",
    "        M = max([max(v),M])\n",
    "        m = min([min(v),m])\n",
    "    \n",
    "    return max([M-stat, stat-m])"
   ]
  },
  {
   "cell_type": "code",
   "execution_count": 4,
   "metadata": {},
   "outputs": [],
   "source": [
    "def LS_all(n):\n",
    "    ls = np.zeros((n+1,n+1,n+1,n+1,n+1))\n",
    "    for p in range(n+1):\n",
    "        for q in range(n-p+1):\n",
    "            for r in range(n-p-q+1):\n",
    "                for s in range(n-p-q-r+1):\n",
    "                    for t in range(n-p-q-r-s+1):\n",
    "                        u = n-p-q-r-s-t\n",
    "                        if p+q >= r+s and r+s >= t+u and p+r+t >= q+s+u:\n",
    "                            ls[p][q][r][s][t] = LS(p,q,r,s,t,u)\n",
    "    for p in range(n+1):\n",
    "        for q in range(n-p+1):\n",
    "            for r in range(n-p-q+1):\n",
    "                for s in range(n-p-q-r+1):\n",
    "                    for t in range(n-p-q-r-s+1):\n",
    "                        u = n-p-q-r-s-t\n",
    "                        if p+q >= r+s and r+s >= t+u and p+r+t < q+s+u:\n",
    "                            ls[p][q][r][s][t] = ls[q][p][s][r][u]\n",
    "                        elif p+q >= t+u and t+u >= r+s and p+r+t >= q+s+u:\n",
    "                            ls[p][q][r][s][t] = ls[p][q][t][u][r]\n",
    "                        elif p+q >= t+u and t+u >= r+s and p+r+t < q+s+u:\n",
    "                            ls[p][q][r][s][t] = ls[q][p][u][t][s]\n",
    "                        elif r+s >= p+q and p+q >= t+u and p+r+t >= q+s+u:\n",
    "                            ls[p][q][r][s][t] = ls[r][s][p][q][t]\n",
    "                        elif r+s >= p+q and p+q >= t+u and p+r+t < q+s+u:\n",
    "                            ls[p][q][r][s][t] = ls[s][r][q][p][u]\n",
    "                        elif r+s >= t+u and t+u >= p+q and p+r+t >= q+s+u:\n",
    "                            ls[p][q][r][s][t] = ls[r][s][t][u][p]\n",
    "                        elif r+s >= t+u and t+u >= p+q and p+r+t < q+s+u:\n",
    "                            ls[p][q][r][s][t] = ls[s][r][u][t][q]\n",
    "                        elif t+u >= p+q and p+q >= r+s and p+r+t >= q+s+u:\n",
    "                            ls[p][q][r][s][t] = ls[t][u][p][q][r]\n",
    "                        elif t+u >= p+q and p+q >= r+s and p+r+t < q+s+u:\n",
    "                            ls[p][q][r][s][t] = ls[u][t][q][p][s]\n",
    "                        elif t+u >= r+s and r+s >= p+q and p+r+t >= q+s+u:\n",
    "                            ls[p][q][r][s][t] = ls[t][u][r][s][p]\n",
    "                        elif t+u >= r+s and r+s >= p+q and p+r+t < q+s+u:\n",
    "                            ls[p][q][r][s][t] = ls[u][t][s][r][q]\n",
    "    return ls"
   ]
  },
  {
   "cell_type": "code",
   "execution_count": 5,
   "metadata": {},
   "outputs": [],
   "source": [
    "def S(n): #max_{x,y}(LS(x)/LS(y))\n",
    "    ls = LS_all(n)\n",
    "    v = 1\n",
    "    for p in range(n+1):\n",
    "        for q in range(n-p+1):\n",
    "            for r in range(n-p-q+1):\n",
    "                for s in range(n-p-q-r+1):\n",
    "                    for t in range(n-p-q-r-s+1):\n",
    "                        u = n-p-q-r-s-t\n",
    "                        if p+q >= r+s and r+s >= t+u and p+r+t >= q+s+u:\n",
    "                            ss = ls[p][q][r][s][t]\n",
    "                            if p >= 1:\n",
    "                                ss = max([ls[p-1][q+1][r][s][t], ls[p-1][q][r+1][s][t], ls[p-1][q][r][s+1][t],\n",
    "                                          ls[p-1][q][r][s][t+1], ls[p-1][q][r][s][t], ss])\n",
    "                            if q >= 1:\n",
    "                                ss = max([ls[p+1][q-1][r][s][t], ls[p][q-1][r+1][s][t], ls[p][q][r][s+1][t],\n",
    "                                          ls[p][q-1][r][s][t+1], ls[p][q-1][r][s][t], ss])\n",
    "                            if r >= 1:\n",
    "                                ss = max([ls[p+1][q][r-1][s][t], ls[p][q+1][r-1][s][t], ls[p][q][r-1][s+1][t],\n",
    "                                          ls[p][q][r-1][s][t+1], ls[p][q][r-1][s][t], ss])\n",
    "                            if s >= 1:\n",
    "                                ss = max([ls[p+1][q][r][s-1][t], ls[p][q+1][r][s-1][t], ls[p][q][r+1][s-1][t],\n",
    "                                          ls[p][q][r][s-1][t+1], ls[p][q][r][s-1][t], ss])\n",
    "                            if t >= 1:\n",
    "                                ss = max([ls[p+1][q][r][s][t-1], ls[p][q+1][r][s][t-1], ls[p][q][r+1][s][t-1],\n",
    "                                          ls[p][q][r][s+1][t-1], ls[p][q][r][s][t-1], ss])\n",
    "                            if u >= 1:\n",
    "                                ss = max([ls[p+1][q][r][s][t], ls[p][q+1][r][s][t], ls[p][q][r+1][s][t],\n",
    "                                          ls[p][q][r][s+1][t], ls[p][q][r][s][t+1], ss])\n",
    "                            v = max([ss/ls[p][q][r][s][t], v])\n",
    "    return v"
   ]
  },
  {
   "cell_type": "code",
   "execution_count": 6,
   "metadata": {},
   "outputs": [
    {
     "data": {
      "image/png": "[encoded data removed]",
      "text/plain": [
       "<Figure size 432x288 with 1 Axes>"
      ]
     },
     "metadata": {
      "needs_background": "light"
     },
     "output_type": "display_data"
    }
   ],
   "source": [
    "maxR = np.zeros(79); index = np.zeros(79)\n",
    "\n",
    "for i in range(79):\n",
    "    maxR[i] = S(i+2)\n",
    "    index[i] = i+2\n",
    "\n",
    "fig = plt.figure()\n",
    "plt.ylim(-0.1, 3.2)\n",
    "plt.xlim(-1, 81)\n",
    "plt.hlines(3,-1,81,color=\"black\", linestyle = \"dashed\")\n",
    "plt.plot(index, maxR, marker=\"o\", markersize=5, color = \"blue\", linestyle = \"-\")\n",
    "plt.xlabel(\"Number of individuals\", fontsize = 18)\n",
    "plt.ylabel(\"Max of LS(x')/LS(x)\", fontsize = 18)\n",
    "fig.savefig(\"goodBeta_3*2.png\")\n",
    "fig.savefig(\"figs/goodBeta_3*2.eps\", bbox_inches=\"tight\", pad_inches=0.05)"
   ]
  },
  {
   "cell_type": "code",
   "execution_count": null,
   "metadata": {},
   "outputs": [],
   "source": []
  }
 ],
 "metadata": {
  "kernelspec": {
   "display_name": "Python 3",
   "language": "python",
   "name": "python3"
  },
  "language_info": {
   "codemirror_mode": {
    "name": "ipython",
    "version": 3
   },
   "file_extension": ".py",
   "mimetype": "text/x-python",
   "name": "python",
   "nbconvert_exporter": "python",
   "pygments_lexer": "ipython3",
   "version": "3.9.0"
  }
 },
 "nbformat": 4,
 "nbformat_minor": 4
}
