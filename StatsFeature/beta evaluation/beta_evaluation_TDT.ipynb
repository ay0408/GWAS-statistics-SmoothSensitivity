{
 "cells": [
  {
   "cell_type": "code",
   "execution_count": 1,
   "metadata": {},
   "outputs": [],
   "source": [
    "import numpy as np\n",
    "import math\n",
    "from scipy import integrate\n",
    "import matplotlib.pyplot as plt\n",
    "import random\n",
    "import time"
   ]
  },
  {
   "cell_type": "code",
   "execution_count": 2,
   "metadata": {},
   "outputs": [],
   "source": [
    "def TDT(n1,n2,n3,n4,n5,n6):\n",
    "    b = n1+n3+2*n4; c = n2+n3+2*n5\n",
    "    if b +c == 0:\n",
    "        return 0\n",
    "    else:\n",
    "        return (b-c)**2/(b+c)"
   ]
  },
  {
   "cell_type": "code",
   "execution_count": 3,
   "metadata": {},
   "outputs": [],
   "source": [
    "def LS(p,q,r,s,t,u): #local sensitivity\n",
    "    stat = TDT(p,q,r,s,t,u); v = np.zeros(0)\n",
    "    M = TDT(p,q,r,s,t,u); m = TDT(p,q,r,s,t,u)\n",
    "    if p >= 1:\n",
    "        v = [TDT(p-1,q+1,r,s,t,u), TDT(p-1,q,r+1,s,t,u), TDT(p-1,q,r,s+1,t,u), \n",
    "             TDT(p-1,q,r,s,t+1,u), TDT(p-1,q,r,s,t,u+1)]\n",
    "        M = max([max(v),M])\n",
    "        m = min([min(v),m])\n",
    "    if q >= 1:\n",
    "        v = [TDT(p+1,q-1,r,s,t,u), TDT(p,q-1,r+1,s,t,u), TDT(p,q-1,r,s+1,t,u), \n",
    "             TDT(p,q-1,r,s,t+1,u), TDT(p,q-1,r,s,t,u+1)]\n",
    "        M = max([max(v),M])\n",
    "        m = min([min(v),m])\n",
    "    if r >= 1:\n",
    "        v = [TDT(p+1,q,r-1,s,t,u), TDT(p,q+1,r-1,s,t,u), TDT(p,q,r-1,s+1,t,u), \n",
    "             TDT(p,q,r-1,s,t+1,u), TDT(p,q,r-1,s,t,u+1)]\n",
    "        M = max([max(v),M])\n",
    "        m = min([min(v),m])\n",
    "    if s >= 1:\n",
    "        v = [TDT(p+1,q,r,s-1,t,u), TDT(p,q+1,r,s-1,t,u), TDT(p,q,r+1,s-1,t,u), \n",
    "             TDT(p,q,r,s-1,t+1,u), TDT(p,q,r,s-1,t,u+1)]\n",
    "        M = max([max(v),M])\n",
    "        m = min([min(v),m])\n",
    "    if t >= 1:\n",
    "        v = [TDT(p+1,q,r,s,t-1,u), TDT(p,q+1,r,s,t-1,u), TDT(p,q,r+1,s,t-1,u), \n",
    "             TDT(p,q,r,s+1,t-1,u), TDT(p,q,r,s,t-1,u+1)]\n",
    "        M = max([max(v),M])\n",
    "        m = min([min(v),m])\n",
    "    if u >= 1:\n",
    "        v = [TDT(p+1,q,r,s,t,u-1), TDT(p,q+1,r,s,t,u-1), TDT(p,q,r+1,s,t,u-1), \n",
    "             TDT(p,q,r,s+1,t,u-1), TDT(p,q,r,s,t+1,u-1)]\n",
    "        M = max([max(v),M])\n",
    "        m = min([min(v),m])\n",
    "    \n",
    "    return max([M-stat, stat-m])"
   ]
  },
  {
   "cell_type": "code",
   "execution_count": 4,
   "metadata": {},
   "outputs": [],
   "source": [
    "def LS_all(n):\n",
    "    ls = np.zeros((n+1,n+1,n+1,n+1,n+1))\n",
    "    for p in range(n+1):\n",
    "        for q in range(n-p+1):\n",
    "            for r in range(n-p-q+1):\n",
    "                for s in range(n-p-q-r+1):\n",
    "                    for t in range(n-p-q-r-s+1):\n",
    "                        u = n-p-q-r-s-t\n",
    "                        if p+2*s >= q+2*t:\n",
    "                            ls[p][q][r][s][t] = LS(p,q,r,s,t,u)\n",
    "    for p in range(n+1):\n",
    "        for q in range(n-p+1):\n",
    "            for r in range(n-p-q+1):\n",
    "                for s in range(n-p-q-r+1):\n",
    "                    for t in range(n-p-q-r-s+1):\n",
    "                        u = n-p-q-r-s-t\n",
    "                        if p+2*s < q+2*t:\n",
    "                            ls[p][q][r][s][t] = ls[q][p][r][t][s]\n",
    "    return ls"
   ]
  },
  {
   "cell_type": "code",
   "execution_count": 5,
   "metadata": {},
   "outputs": [],
   "source": [
    "def S(n): #max_{x,y}(LS(x)/LS(y))\n",
    "    ls = LS_all(n)\n",
    "    v = 1\n",
    "    for p in range(n+1):\n",
    "        for q in range(n-p+1):\n",
    "            for r in range(n-p-q+1):\n",
    "                for s in range(n-p-q-r+1):\n",
    "                    for t in range(n-p-q-r-s+1):\n",
    "                        u = n-p-q-r-s-t\n",
    "                        if p+2*s >= q+2*t:\n",
    "                            ss = ls[p][q][r][s][t]\n",
    "                            if p >= 1:\n",
    "                                ss = max([ls[p-1][q+1][r][s][t], ls[p-1][q][r+1][s][t], ls[p-1][q][r][s+1][t],\n",
    "                                          ls[p-1][q][r][s][t+1], ls[p-1][q][r][s][t], ss])\n",
    "                            if q >= 1:\n",
    "                                ss = max([ls[p+1][q-1][r][s][t], ls[p][q-1][r+1][s][t], ls[p][q][r][s+1][t],\n",
    "                                          ls[p][q-1][r][s][t+1], ls[p][q-1][r][s][t], ss])\n",
    "                            if r >= 1:\n",
    "                                ss = max([ls[p+1][q][r-1][s][t], ls[p][q+1][r-1][s][t], ls[p][q][r-1][s+1][t],\n",
    "                                          ls[p][q][r-1][s][t+1], ls[p][q][r-1][s][t], ss])\n",
    "                            if s >= 1:\n",
    "                                ss = max([ls[p+1][q][r][s-1][t], ls[p][q+1][r][s-1][t], ls[p][q][r+1][s-1][t],\n",
    "                                          ls[p][q][r][s-1][t+1], ls[p][q][r][s-1][t], ss])\n",
    "                            if t >= 1:\n",
    "                                ss = max([ls[p+1][q][r][s][t-1], ls[p][q+1][r][s][t-1], ls[p][q][r+1][s][t-1],\n",
    "                                          ls[p][q][r][s+1][t-1], ls[p][q][r][s][t-1], ss])\n",
    "                            if u >= 1:\n",
    "                                ss = max([ls[p+1][q][r][s][t], ls[p][q+1][r][s][t], ls[p][q][r+1][s][t],\n",
    "                                          ls[p][q][r][s+1][t], ls[p][q][r][s][t+1], ss])\n",
    "                            v = max([ss/ls[p][q][r][s][t], v])\n",
    "    return v"
   ]
  },
  {
   "cell_type": "code",
   "execution_count": 6,
   "metadata": {},
   "outputs": [
    {
     "data": {
      "image/png": "[encoded data removed]",
      "text/plain": [
       "<Figure size 432x288 with 1 Axes>"
      ]
     },
     "metadata": {
      "needs_background": "light"
     },
     "output_type": "display_data"
    }
   ],
   "source": [
    "maxR = np.zeros(50); index = np.zeros(50)\n",
    "\n",
    "for i in range(50):\n",
    "    maxR[i] = S(i+1)\n",
    "    index[i] = i+1\n",
    "\n",
    "fig = plt.figure()\n",
    "plt.ylim(-0.1, 3.3)\n",
    "plt.xlim(-1, 51)\n",
    "plt.hlines(40/13,-1,51,color=\"black\", linestyle = \"dashed\")\n",
    "plt.plot(index, maxR, marker=\"o\", markersize=5, color = \"blue\", linestyle = \"-\")\n",
    "plt.xlabel(\"# of individuals\", fontsize = 18)\n",
    "plt.ylabel(\"Max of LS(x')/LS(x)\", fontsize = 18)\n",
    "fig.savefig(\"goodBeta_TDT.png\")\n",
    "fig.savefig(\"figs/goodBeta_TDT.eps\", bbox_inches=\"tight\", pad_inches=0.05)"
   ]
  },
  {
   "cell_type": "code",
   "execution_count": null,
   "metadata": {},
   "outputs": [],
   "source": []
  }
 ],
 "metadata": {
  "kernelspec": {
   "display_name": "Python 3",
   "language": "python",
   "name": "python3"
  },
  "language_info": {
   "codemirror_mode": {
    "name": "ipython",
    "version": 3
   },
   "file_extension": ".py",
   "mimetype": "text/x-python",
   "name": "python",
   "nbconvert_exporter": "python",
   "pygments_lexer": "ipython3",
   "version": "3.9.0"
  }
 },
 "nbformat": 4,
 "nbformat_minor": 4
}
