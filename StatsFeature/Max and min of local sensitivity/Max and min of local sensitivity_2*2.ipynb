{
 "cells": [
  {
   "cell_type": "code",
   "execution_count": 1,
   "metadata": {},
   "outputs": [],
   "source": [
    "import numpy as np\n",
    "import math\n",
    "from scipy import integrate\n",
    "import matplotlib.pyplot as plt\n",
    "import random\n",
    "import time"
   ]
  },
  {
   "cell_type": "code",
   "execution_count": 2,
   "metadata": {},
   "outputs": [],
   "source": [
    "def chi2(a,b,c,d):\n",
    "    if a+b == 0:\n",
    "        return (c-d)**2/(c+d)\n",
    "    elif c+d == 0:\n",
    "        return (a-b)**2/(a+b)\n",
    "    else:\n",
    "        return ((a-b)**2)/(a+b) + ((c-d)**2)/(c+d)"
   ]
  },
  {
   "cell_type": "code",
   "execution_count": 3,
   "metadata": {},
   "outputs": [],
   "source": [
    "def LS(a,b,c,d): #local sensitivity\n",
    "    stat = chi2(a,b,c,d); t = np.zeros(0)\n",
    "    M = chi2(a,b,c,d); m = chi2(a,b,c,d)\n",
    "    if a >= 2:\n",
    "        t = [chi2(a-2,b+2,c,d), chi2(a-2,b+1,c+1,d), chi2(a-2,b+1,c,d+1), chi2(a-2,b,c+2,d), chi2(a-2,b,c+1,d+1),\n",
    "             chi2(a-2,b,c,d+2)]\n",
    "        M = max([max(t),M])\n",
    "        m = min([min(t),m])\n",
    "    if b >= 2:\n",
    "        t = [chi2(a+2,b-2,c,d), chi2(a+1,b-2,c+1,d), chi2(a+1,b-2,c,d+1), chi2(a,b-2,c+2,d), chi2(a,b-2,c+1,d+1),\n",
    "             chi2(a,b-2,c,d+2)]\n",
    "        M = max([max(t),M])\n",
    "        m = min([min(t),m])\n",
    "    if c >= 2:\n",
    "        t = [chi2(a+2,b,c-2,d), chi2(a+1,b+1,c-2,d), chi2(a+1,b,c-2,d+1), chi2(a,b+2,c-2,d), chi2(a,b+1,c-2,d+1),\n",
    "             chi2(a,b,c-2,d+2)]\n",
    "        M = max([max(t),M])\n",
    "        m = min([min(t),m])\n",
    "    if d >= 2:\n",
    "        t = [chi2(a+2,b,c,d-2), chi2(a+1,b+1,c,d-2), chi2(a+1,b,c+1,d-2), chi2(a,b+2,c,d-2), chi2(a,b+1,c+1,d-2),\n",
    "             chi2(a,b,c+2,d-2)]\n",
    "        M = max([max(t),M])\n",
    "        m = min([min(t),m])\n",
    "    if a >= 1 and b >= 1:\n",
    "        t = [chi2(a-1,b-1,c+2,d), chi2(a-1,b-1,c+1,d+1), chi2(a-1,b-1,c,d+2)]\n",
    "        M = max([max(t),M])\n",
    "        m = min([min(t),m])\n",
    "    if a >= 1 and c >= 1:\n",
    "        t = [chi2(a-1,b+2,c-1,d), chi2(a-1,b+1,c-1,d+1), chi2(a-1,b,c-1,d+2)]\n",
    "        M = max([max(t),M])\n",
    "        m = min([min(t),m])\n",
    "    if a >= 1 and d >= 1:\n",
    "        t = [chi2(a-1,b+2,c,d-1), chi2(a-1,b+1,c+1,d-1), chi2(a-1,b,c+2,d-1)]\n",
    "        M = max([max(t),M])\n",
    "        m = min([min(t),m])\n",
    "    if b >= 1 and c >= 1:\n",
    "        t = [chi2(a+2,b-1,c-1,d), chi2(a+1,b-1,c-1,d+1), chi2(a,b-1,c-1,d+2)]\n",
    "        M = max([max(t),M])\n",
    "        m = min([min(t),m])\n",
    "    if b >= 1 and d >= 1:\n",
    "        t = [chi2(a+2,b-1,c,d-1), chi2(a+1,b-1,c+1,d-1), chi2(a,b-1,c+2,d-1)]\n",
    "        M = max([max(t),M])\n",
    "        m = min([min(t),m])\n",
    "    if c >= 1 and d >= 1:\n",
    "        t = [chi2(a+2,b,c-1,d-1), chi2(a+1,b+1,c-1,d-1), chi2(a,b+2,c-1,d-1)]\n",
    "        M = max([max(t),M])\n",
    "        m = min([min(t),m])\n",
    "    if a >= 1:\n",
    "        t = [chi2(a-1,b+1,c,d), chi2(a-1,b,c+1,d), chi2(a-1,b,c,d+1)]\n",
    "        M = max([max(t),M])\n",
    "        m = min([min(t),m])\n",
    "    if b >= 1:\n",
    "        t = [chi2(a+1,b-1,c,d), chi2(a,b-1,c+1,d), chi2(a,b-1,c,d+1)]\n",
    "        M = max([max(t),M])\n",
    "        m = min([min(t),m])\n",
    "    if c >= 1:\n",
    "        t = [chi2(a+1,b,c-1,d), chi2(a,b+1,c-1,d), chi2(a,b,c-1,d+1)]\n",
    "        M = max([max(t),M])\n",
    "        m = min([min(t),m])\n",
    "    if d >= 1:\n",
    "        t = [chi2(a+1,b,c,d-1), chi2(a,b+1,c,d-1), chi2(a,b,c+1,d-1)]\n",
    "        M = max([max(t),M])\n",
    "        m = min([min(t),m])\n",
    "    \n",
    "    return max([M-stat, stat-m])"
   ]
  },
  {
   "cell_type": "code",
   "execution_count": 4,
   "metadata": {},
   "outputs": [],
   "source": [
    "def LS_Max(n): #max of local sensitivity = global sensitivity\n",
    "    t = int(2*n); m = 0\n",
    "    for a in range(t+1):\n",
    "        for b in range(t-a+1):\n",
    "            for c in range(t-a-b+1):\n",
    "                d = t-a-b-c\n",
    "                if a+b >= c+d and a+c >= b+d:\n",
    "                    m = max([LS(a,b,c,d),m])\n",
    "    return m"
   ]
  },
  {
   "cell_type": "code",
   "execution_count": 5,
   "metadata": {},
   "outputs": [
    {
     "data": {
      "image/png": "[encoded data removed]",
      "text/plain": [
       "<Figure size 432x288 with 1 Axes>"
      ]
     },
     "metadata": {
      "needs_background": "light"
     },
     "output_type": "display_data"
    }
   ],
   "source": [
    "maxLS = np.zeros(80); index = np.zeros(80)\n",
    "\n",
    "for i in range(80):\n",
    "    maxLS[i] = LS_Max(i+1)\n",
    "    index[i] = i+1\n",
    "\n",
    "fig = plt.figure()\n",
    "plt.ylim(-0.1, 8.5)\n",
    "plt.xlim(-1, 81)\n",
    "plt.hlines(8,-1,81,color=\"black\", linestyle = \"dashed\")\n",
    "plt.plot(index, maxLS, marker=\"o\", markersize=5, color = \"blue\", linestyle = \"-\")\n",
    "plt.xlabel(\"Number of individuals\", fontsize = 18)\n",
    "plt.ylabel(\"Global Sensitivity\", fontsize = 18)\n",
    "fig.savefig(\"GS_2*2.png\")\n",
    "fig.savefig(\"figs/GS_2*2.eps\", bbox_inches=\"tight\", pad_inches=0.05)"
   ]
  },
  {
   "cell_type": "code",
   "execution_count": 6,
   "metadata": {},
   "outputs": [],
   "source": [
    "def LS_min(n): #min of local sensitivity\n",
    "    t = int(2*n); m = 8\n",
    "    for a in range(t+1):\n",
    "        for b in range(t-a+1):\n",
    "            for c in range(t-a-b+1):\n",
    "                d = t-a-b-c\n",
    "                if a+b >= c+d and a+c >= b+d:\n",
    "                    m = min([LS(a,b,c,d),m])\n",
    "    return m"
   ]
  },
  {
   "cell_type": "code",
   "execution_count": 7,
   "metadata": {},
   "outputs": [
    {
     "data": {
      "image/png": "[encoded data removed]",
      "text/plain": [
       "<Figure size 432x288 with 1 Axes>"
      ]
     },
     "metadata": {
      "needs_background": "light"
     },
     "output_type": "display_data"
    }
   ],
   "source": [
    "minLS = np.zeros(61); index = np.zeros(61)\n",
    "\n",
    "for i in range(61):\n",
    "    minLS[i] = LS_min(i+20)\n",
    "    index[i] = i+20\n",
    "\n",
    "fig = plt.figure()\n",
    "plt.ylim(-0.05, 1.05)\n",
    "plt.xlim(19, 81)\n",
    "x = np.arange(19, 81, 0.02)\n",
    "plt.plot(x,15/x,color=\"black\", linestyle = \"dashed\")\n",
    "plt.plot(index, minLS, marker=\"o\", markersize=5, color = \"blue\", linestyle = \"-\")\n",
    "plt.xlabel(\"Number of individuals\", fontsize = 18)\n",
    "plt.ylabel(\"min of Local Sensitivity\", fontsize = 18)\n",
    "fig.savefig(\"minLS_2*2.png\")\n",
    "fig.savefig(\"figs/minLS_2*2.eps\", bbox_inches=\"tight\", pad_inches=0.05)"
   ]
  },
  {
   "cell_type": "code",
   "execution_count": null,
   "metadata": {},
   "outputs": [],
   "source": []
  }
 ],
 "metadata": {
  "kernelspec": {
   "display_name": "Python 3",
   "language": "python",
   "name": "python3"
  },
  "language_info": {
   "codemirror_mode": {
    "name": "ipython",
    "version": 3
   },
   "file_extension": ".py",
   "mimetype": "text/x-python",
   "name": "python",
   "nbconvert_exporter": "python",
   "pygments_lexer": "ipython3",
   "version": "3.9.0"
  }
 },
 "nbformat": 4,
 "nbformat_minor": 4
}
