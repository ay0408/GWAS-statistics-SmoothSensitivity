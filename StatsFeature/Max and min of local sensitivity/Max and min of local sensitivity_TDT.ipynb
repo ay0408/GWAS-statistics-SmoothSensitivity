{
 "cells": [
  {
   "cell_type": "code",
   "execution_count": 1,
   "metadata": {},
   "outputs": [],
   "source": [
    "import numpy as np\n",
    "import math\n",
    "from scipy import integrate\n",
    "import matplotlib.pyplot as plt\n",
    "import random\n",
    "import time"
   ]
  },
  {
   "cell_type": "code",
   "execution_count": 2,
   "metadata": {},
   "outputs": [],
   "source": [
    "def TDT(n1,n2,n3,n4,n5,n6):\n",
    "    b = n1+n3+2*n4; c = n2+n3+2*n5\n",
    "    if b +c == 0:\n",
    "        return 0\n",
    "    else:\n",
    "        return (b-c)**2/(b+c)"
   ]
  },
  {
   "cell_type": "code",
   "execution_count": 3,
   "metadata": {},
   "outputs": [],
   "source": [
    "def LS(p,q,r,s,t,u): #local sensitivity\n",
    "    stat = TDT(p,q,r,s,t,u); v = np.zeros(0)\n",
    "    M = TDT(p,q,r,s,t,u); m = TDT(p,q,r,s,t,u)\n",
    "    if p >= 1:\n",
    "        v = [TDT(p-1,q+1,r,s,t,u), TDT(p-1,q,r+1,s,t,u), TDT(p-1,q,r,s+1,t,u), \n",
    "             TDT(p-1,q,r,s,t+1,u), TDT(p-1,q,r,s,t,u+1)]\n",
    "        M = max([max(v),M])\n",
    "        m = min([min(v),m])\n",
    "    if q >= 1:\n",
    "        v = [TDT(p+1,q-1,r,s,t,u), TDT(p,q-1,r+1,s,t,u), TDT(p,q-1,r,s+1,t,u), \n",
    "             TDT(p,q-1,r,s,t+1,u), TDT(p,q-1,r,s,t,u+1)]\n",
    "        M = max([max(v),M])\n",
    "        m = min([min(v),m])\n",
    "    if r >= 1:\n",
    "        v = [TDT(p+1,q,r-1,s,t,u), TDT(p,q+1,r-1,s,t,u), TDT(p,q,r-1,s+1,t,u), \n",
    "             TDT(p,q,r-1,s,t+1,u), TDT(p,q,r-1,s,t,u+1)]\n",
    "        M = max([max(v),M])\n",
    "        m = min([min(v),m])\n",
    "    if s >= 1:\n",
    "        v = [TDT(p+1,q,r,s-1,t,u), TDT(p,q+1,r,s-1,t,u), TDT(p,q,r+1,s-1,t,u), \n",
    "             TDT(p,q,r,s-1,t+1,u), TDT(p,q,r,s-1,t,u+1)]\n",
    "        M = max([max(v),M])\n",
    "        m = min([min(v),m])\n",
    "    if t >= 1:\n",
    "        v = [TDT(p+1,q,r,s,t-1,u), TDT(p,q+1,r,s,t-1,u), TDT(p,q,r+1,s,t-1,u), \n",
    "             TDT(p,q,r,s+1,t-1,u), TDT(p,q,r,s,t-1,u+1)]\n",
    "        M = max([max(v),M])\n",
    "        m = min([min(v),m])\n",
    "    if u >= 1:\n",
    "        v = [TDT(p+1,q,r,s,t,u-1), TDT(p,q+1,r,s,t,u-1), TDT(p,q,r+1,s,t,u-1), \n",
    "             TDT(p,q,r,s+1,t,u-1), TDT(p,q,r,s,t+1,u-1)]\n",
    "        M = max([max(v),M])\n",
    "        m = min([min(v),m])\n",
    "    \n",
    "    return max([M-stat, stat-m])"
   ]
  },
  {
   "cell_type": "code",
   "execution_count": 4,
   "metadata": {},
   "outputs": [],
   "source": [
    "def LS_Max(n): #max of local sensitivity = global sensitivity\n",
    "    m = 0\n",
    "    for p in range(n+1):\n",
    "        for q in range(n-p+1):\n",
    "            for r in range(n-p-q+1):\n",
    "                for s in range(n-p-q-r+1):\n",
    "                    for t in range(n-p-q-r-s+1):\n",
    "                        u = n-p-q-r-s-t\n",
    "                        if p+2*s >= q+2*t:\n",
    "                            m = max([LS(p,q,r,s,t,u),m])\n",
    "    return m"
   ]
  },
  {
   "cell_type": "code",
   "execution_count": 5,
   "metadata": {},
   "outputs": [
    {
     "data": {
      "image/png": "[encoded data removed]",
      "text/plain": [
       "<Figure size 432x288 with 1 Axes>"
      ]
     },
     "metadata": {
      "needs_background": "light"
     },
     "output_type": "display_data"
    }
   ],
   "source": [
    "maxLS = np.zeros(50); index = np.zeros(50)\n",
    "\n",
    "for i in range(50):\n",
    "    maxLS[i] = LS_Max(i+1)\n",
    "    index[i] = i+1\n",
    "\n",
    "fig = plt.figure()\n",
    "plt.ylim(-0.1, 8.5)\n",
    "plt.xlim(-1, 51)\n",
    "plt.hlines(8,-1,51,color=\"black\", linestyle = \"dashed\")\n",
    "plt.plot(index, maxLS, marker=\"o\", markersize=5, color = \"blue\", linestyle = \"-\")\n",
    "plt.xlabel(\"Number of individuals\", fontsize = 18)\n",
    "plt.ylabel(\"Global Sensitivity\", fontsize = 18)\n",
    "fig.savefig(\"GS_TDT.png\")\n",
    "fig.savefig(\"figs/GS_TDT.eps\", bbox_inches=\"tight\", pad_inches=0.05)"
   ]
  },
  {
   "cell_type": "code",
   "execution_count": 6,
   "metadata": {},
   "outputs": [],
   "source": [
    "def LS_min(n): #min of local sensitivity\n",
    "    m = 8\n",
    "    for p in range(n+1):\n",
    "        for q in range(n-p+1):\n",
    "            for r in range(n-p-q+1):\n",
    "                for s in range(n-p-q-r+1):\n",
    "                    for t in range(n-p-q-r-s+1):\n",
    "                        u = n-p-q-r-s-t\n",
    "                        if p+2*s >= q+2*t:\n",
    "                            m = min([LS(p,q,r,s,t,u),m])\n",
    "    return m"
   ]
  },
  {
   "cell_type": "code",
   "execution_count": 7,
   "metadata": {},
   "outputs": [
    {
     "data": {
      "image/png": "[encoded data removed]",
      "text/plain": [
       "<Figure size 432x288 with 1 Axes>"
      ]
     },
     "metadata": {
      "needs_background": "light"
     },
     "output_type": "display_data"
    }
   ],
   "source": [
    "minLS = np.zeros(41); index = np.zeros(41)\n",
    "\n",
    "for i in range(41):\n",
    "    minLS[i] = LS_min(i+10)\n",
    "    index[i] = i+10\n",
    "\n",
    "fig = plt.figure()\n",
    "plt.ylim(-0.01, 0.23)\n",
    "plt.xlim(8.5, 51.5)\n",
    "x = np.arange(8.5, 51.5, 0.02)\n",
    "plt.plot(x,2/x,color=\"black\", linestyle = \"dashed\")\n",
    "plt.plot(index, minLS, marker=\"o\", markersize=5, color = \"blue\", linestyle = \"-\")\n",
    "plt.xlabel(\"Number of individuals\", fontsize = 18)\n",
    "plt.ylabel(\"min of Local Sensitivity\", fontsize = 18)\n",
    "fig.savefig(\"minLS_TDT.png\")\n",
    "fig.savefig(\"figs/minLS_TDT.eps\", bbox_inches=\"tight\", pad_inches=0.05)"
   ]
  },
  {
   "cell_type": "code",
   "execution_count": null,
   "metadata": {},
   "outputs": [],
   "source": []
  }
 ],
 "metadata": {
  "kernelspec": {
   "display_name": "Python 3",
   "language": "python",
   "name": "python3"
  },
  "language_info": {
   "codemirror_mode": {
    "name": "ipython",
    "version": 3
   },
   "file_extension": ".py",
   "mimetype": "text/x-python",
   "name": "python",
   "nbconvert_exporter": "python",
   "pygments_lexer": "ipython3",
   "version": "3.9.0"
  }
 },
 "nbformat": 4,
 "nbformat_minor": 4
}
