{
 "cells": [
  {
   "cell_type": "code",
   "execution_count": 1,
   "metadata": {},
   "outputs": [],
   "source": [
    "import numpy as np\n",
    "import math\n",
    "from scipy import integrate\n",
    "import matplotlib.pyplot as plt\n",
    "import random\n",
    "import time"
   ]
  },
  {
   "cell_type": "code",
   "execution_count": 2,
   "metadata": {},
   "outputs": [],
   "source": [
    "def chi2(p,q,r,s,t,u):\n",
    "    stat = 0\n",
    "    if p+q != 0:\n",
    "        stat += (p-q)**2/(p+q)\n",
    "    if r+s != 0:\n",
    "        stat += (r-s)**2/(r+s)\n",
    "    if t+u != 0:\n",
    "        stat += (t-u)**2/(t+u)\n",
    "    return stat"
   ]
  },
  {
   "cell_type": "code",
   "execution_count": 3,
   "metadata": {},
   "outputs": [],
   "source": [
    "def generateData(n):\n",
    "    table = np.zeros(6)\n",
    "    table[0] = np.random.binomial(n,1/6)\n",
    "    table[1] = np.random.binomial(n-table[0],1/5)\n",
    "    table[2] = np.random.binomial(n-table[0]-table[1],1/4)\n",
    "    table[3] = np.random.binomial(n-table[0]-table[1]-table[2],1/3)\n",
    "    table[4] = np.random.binomial(n-table[0]-table[1]-table[2]-table[3],1/2)\n",
    "    table[5] = n-table[0]-table[1]-table[2]-table[3]-table[4]\n",
    "    return table"
   ]
  },
  {
   "cell_type": "code",
   "execution_count": 4,
   "metadata": {},
   "outputs": [
    {
     "data": {
      "image/png": "[encoded data removed]",
      "text/plain": [
       "<Figure size 432x288 with 1 Axes>"
      ]
     },
     "metadata": {
      "needs_background": "light"
     },
     "output_type": "display_data"
    }
   ],
   "source": [
    "n = 2000; m = 100\n",
    "stats = np.zeros(m)\n",
    "\n",
    "for i in range(m):\n",
    "    table = generateData(n)\n",
    "    stats[i] = chi2(table[0],table[1],table[2],table[3],table[4],table[5])\n",
    "\n",
    "sstats = sorted(stats, reverse=True)\n",
    "\n",
    "index = np.zeros(m)\n",
    "for i in range(m):\n",
    "    index[i] = i\n",
    "\n",
    "fig = plt.figure()\n",
    "plt.ylim(-0.3, np.max(sstats)+1)\n",
    "plt.xlim(-1, 101)\n",
    "plt.plot(index, sstats, marker=\"o\", markersize=5, color = \"blue\", linestyle = \"-\")\n",
    "plt.xlabel(\"SNPs\", fontsize = 18)\n",
    "plt.ylabel(\"chi^2-statistics\", fontsize = 18)\n",
    "fig.savefig(\"statsDistribution_32_N=2000.png\")\n",
    "fig.savefig(\"figs/statsDistribution_32_N=2000.eps\", bbox_inches=\"tight\", pad_inches=0.05)"
   ]
  },
  {
   "cell_type": "code",
   "execution_count": null,
   "metadata": {},
   "outputs": [],
   "source": []
  }
 ],
 "metadata": {
  "kernelspec": {
   "display_name": "Python 3",
   "language": "python",
   "name": "python3"
  },
  "language_info": {
   "codemirror_mode": {
    "name": "ipython",
    "version": 3
   },
   "file_extension": ".py",
   "mimetype": "text/x-python",
   "name": "python",
   "nbconvert_exporter": "python",
   "pygments_lexer": "ipython3",
   "version": "3.8.3"
  }
 },
 "nbformat": 4,
 "nbformat_minor": 4
}
