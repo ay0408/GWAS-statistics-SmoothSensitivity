{
 "cells": [
  {
   "cell_type": "code",
   "execution_count": 1,
   "metadata": {},
   "outputs": [],
   "source": [
    "import numpy as np\n",
    "import math\n",
    "from scipy import integrate\n",
    "import matplotlib.pyplot as plt\n",
    "import random\n",
    "import time"
   ]
  },
  {
   "cell_type": "code",
   "execution_count": 2,
   "metadata": {},
   "outputs": [],
   "source": [
    "def chi2(a,b,c,d):\n",
    "    if a+b == 0:\n",
    "        return (c-d)**2/(c+d)\n",
    "    elif c+d == 0:\n",
    "        return (a-b)**2/(a+b)\n",
    "    else:\n",
    "        return ((a-b)**2)/(a+b) + ((c-d)**2)/(c+d)"
   ]
  },
  {
   "cell_type": "code",
   "execution_count": 3,
   "metadata": {},
   "outputs": [],
   "source": [
    "def LS(a,b,c,d): #local sensitivity\n",
    "    stat = chi2(a,b,c,d); t = np.zeros(0)\n",
    "    M = chi2(a,b,c,d); m = chi2(a,b,c,d)\n",
    "    if a >= 2:\n",
    "        t = [chi2(a-2,b+2,c,d), chi2(a-2,b+1,c+1,d), chi2(a-2,b+1,c,d+1), chi2(a-2,b,c+2,d), chi2(a-2,b,c+1,d+1),\n",
    "             chi2(a-2,b,c,d+2)]\n",
    "        M = max([max(t),M])\n",
    "        m = min([min(t),m])\n",
    "    if b >= 2:\n",
    "        t = [chi2(a+2,b-2,c,d), chi2(a+1,b-2,c+1,d), chi2(a+1,b-2,c,d+1), chi2(a,b-2,c+2,d), chi2(a,b-2,c+1,d+1),\n",
    "             chi2(a,b-2,c,d+2)]\n",
    "        M = max([max(t),M])\n",
    "        m = min([min(t),m])\n",
    "    if c >= 2:\n",
    "        t = [chi2(a+2,b,c-2,d), chi2(a+1,b+1,c-2,d), chi2(a+1,b,c-2,d+1), chi2(a,b+2,c-2,d), chi2(a,b+1,c-2,d+1),\n",
    "             chi2(a,b,c-2,d+2)]\n",
    "        M = max([max(t),M])\n",
    "        m = min([min(t),m])\n",
    "    if d >= 2:\n",
    "        t = [chi2(a+2,b,c,d-2), chi2(a+1,b+1,c,d-2), chi2(a+1,b,c+1,d-2), chi2(a,b+2,c,d-2), chi2(a,b+1,c+1,d-2),\n",
    "             chi2(a,b,c+2,d-2)]\n",
    "        M = max([max(t),M])\n",
    "        m = min([min(t),m])\n",
    "    if a >= 1 and b >= 1:\n",
    "        t = [chi2(a-1,b-1,c+2,d), chi2(a-1,b-1,c+1,d+1), chi2(a-1,b-1,c,d+2)]\n",
    "        M = max([max(t),M])\n",
    "        m = min([min(t),m])\n",
    "    if a >= 1 and c >= 1:\n",
    "        t = [chi2(a-1,b+2,c-1,d), chi2(a-1,b+1,c-1,d+1), chi2(a-1,b,c-1,d+2)]\n",
    "        M = max([max(t),M])\n",
    "        m = min([min(t),m])\n",
    "    if a >= 1 and d >= 1:\n",
    "        t = [chi2(a-1,b+2,c,d-1), chi2(a-1,b+1,c+1,d-1), chi2(a-1,b,c+2,d-1)]\n",
    "        M = max([max(t),M])\n",
    "        m = min([min(t),m])\n",
    "    if b >= 1 and c >= 1:\n",
    "        t = [chi2(a+2,b-1,c-1,d), chi2(a+1,b-1,c-1,d+1), chi2(a,b-1,c-1,d+2)]\n",
    "        M = max([max(t),M])\n",
    "        m = min([min(t),m])\n",
    "    if b >= 1 and d >= 1:\n",
    "        t = [chi2(a+2,b-1,c,d-1), chi2(a+1,b-1,c+1,d-1), chi2(a,b-1,c+2,d-1)]\n",
    "        M = max([max(t),M])\n",
    "        m = min([min(t),m])\n",
    "    if c >= 1 and d >= 1:\n",
    "        t = [chi2(a+2,b,c-1,d-1), chi2(a+1,b+1,c-1,d-1), chi2(a,b+2,c-1,d-1)]\n",
    "        M = max([max(t),M])\n",
    "        m = min([min(t),m])\n",
    "    if a >= 1:\n",
    "        t = [chi2(a-1,b+1,c,d), chi2(a-1,b,c+1,d), chi2(a-1,b,c,d+1)]\n",
    "        M = max([max(t),M])\n",
    "        m = min([min(t),m])\n",
    "    if b >= 1:\n",
    "        t = [chi2(a+1,b-1,c,d), chi2(a,b-1,c+1,d), chi2(a,b-1,c,d+1)]\n",
    "        M = max([max(t),M])\n",
    "        m = min([min(t),m])\n",
    "    if c >= 1:\n",
    "        t = [chi2(a+1,b,c-1,d), chi2(a,b+1,c-1,d), chi2(a,b,c-1,d+1)]\n",
    "        M = max([max(t),M])\n",
    "        m = min([min(t),m])\n",
    "    if d >= 1:\n",
    "        t = [chi2(a+1,b,c,d-1), chi2(a,b+1,c,d-1), chi2(a,b,c+1,d-1)]\n",
    "        M = max([max(t),M])\n",
    "        m = min([min(t),m])\n",
    "    \n",
    "    return max([M-stat, stat-m])"
   ]
  },
  {
   "cell_type": "code",
   "execution_count": 4,
   "metadata": {},
   "outputs": [],
   "source": [
    "def SS(table,beta): #smooth sensitivity\n",
    "    a = table[0]; b = table[1]; c = table[2]; d = table[3]\n",
    "    GS = 8; ls = LS(a,b,c,d)\n",
    "    if beta >= math.log(3):\n",
    "        return ls\n",
    "    else:\n",
    "        dist = math.ceil(math.log(GS/ls))/beta\n",
    "        t = int(2*dist); ss = 0\n",
    "        for ya in range(-t,t+1):\n",
    "            for yb in range(-t,t+1):\n",
    "                for yc in range(-t,t+1):\n",
    "                    yd = -ya-yb-yc\n",
    "                    if a+ya >= 0 and b+yb>=0 and c+yc>=0 and d+yd>=0:\n",
    "                        dxy = math.ceil((math.fabs(ya) + math.fabs(yb) + math.fabs(yc) + math.fabs(yd))/4)\n",
    "                        if dxy <= dist:\n",
    "                            ss = max([LS(a+ya,b+yb,c+yc,d+yd)*math.exp(-(beta*dxy)), ss])\n",
    "        return ss"
   ]
  },
  {
   "cell_type": "code",
   "execution_count": 5,
   "metadata": {},
   "outputs": [],
   "source": [
    "def generateData(n):\n",
    "    t = int(2*n); table = np.zeros(4)\n",
    "    table[0] = np.random.binomial(t,1/4)\n",
    "    table[1] = np.random.binomial(t-table[0],1/3)\n",
    "    table[2] = np.random.binomial(t-table[0]-table[1],1/2)\n",
    "    table[3] = t-table[0]-table[1]-table[2]\n",
    "    return table"
   ]
  },
  {
   "cell_type": "code",
   "execution_count": 6,
   "metadata": {},
   "outputs": [],
   "source": [
    "def RunTime(N,beta):\n",
    "    t = 0\n",
    "    for i in range(100):\n",
    "        table = generateData(N)\n",
    "        s = time.time()\n",
    "        SS(table,beta)\n",
    "        e = time.time()\n",
    "        t += (e-s)\n",
    "    return t/100"
   ]
  },
  {
   "cell_type": "code",
   "execution_count": 7,
   "metadata": {},
   "outputs": [
    {
     "name": "stdout",
     "output_type": "stream",
     "text": [
      "1.0020314455032349\n",
      "0.14325281381607055\n",
      "6.667375564575195e-05\n",
      "6.648540496826172e-05\n"
     ]
    }
   ],
   "source": [
    "N = 1000; epsilon = [2,4,6,8]\n",
    "for i in range(4):\n",
    "    print(RunTime(N,epsilon[i]/4))"
   ]
  },
  {
   "cell_type": "code",
   "execution_count": 8,
   "metadata": {},
   "outputs": [
    {
     "name": "stdout",
     "output_type": "stream",
     "text": [
      "1.3569517183303832\n",
      "0.17910594940185548\n",
      "6.708145141601563e-05\n",
      "6.65426254272461e-05\n"
     ]
    }
   ],
   "source": [
    "N = 2000; epsilon = [2,4,6,8]\n",
    "for i in range(4):\n",
    "    print(RunTime(N,epsilon[i]/4))"
   ]
  },
  {
   "cell_type": "code",
   "execution_count": 9,
   "metadata": {},
   "outputs": [
    {
     "name": "stdout",
     "output_type": "stream",
     "text": [
      "1.8278893518447876\n",
      "0.23533127784729005\n",
      "6.86788558959961e-05\n",
      "6.63614273071289e-05\n"
     ]
    }
   ],
   "source": [
    "N = 5000; epsilon = [2,4,6,8]\n",
    "for i in range(4):\n",
    "    print(RunTime(N,epsilon[i]/4))"
   ]
  },
  {
   "cell_type": "code",
   "execution_count": null,
   "metadata": {},
   "outputs": [],
   "source": []
  }
 ],
 "metadata": {
  "kernelspec": {
   "display_name": "Python 3",
   "language": "python",
   "name": "python3"
  },
  "language_info": {
   "codemirror_mode": {
    "name": "ipython",
    "version": 3
   },
   "file_extension": ".py",
   "mimetype": "text/x-python",
   "name": "python",
   "nbconvert_exporter": "python",
   "pygments_lexer": "ipython3",
   "version": "3.9.0"
  }
 },
 "nbformat": 4,
 "nbformat_minor": 4
}
