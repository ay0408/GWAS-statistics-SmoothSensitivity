{
 "cells": [
  {
   "cell_type": "code",
   "execution_count": 1,
   "metadata": {},
   "outputs": [],
   "source": [
    "import numpy as np\n",
    "import math\n",
    "from scipy import integrate\n",
    "import matplotlib.pyplot as plt\n",
    "import random\n",
    "import time"
   ]
  },
  {
   "cell_type": "code",
   "execution_count": 2,
   "metadata": {},
   "outputs": [],
   "source": [
    "def TDT(n1,n2,n3,n4,n5,n6):\n",
    "    b = n1+n3+2*n4; c = n2+n3+2*n5\n",
    "    if b +c == 0:\n",
    "        return 0\n",
    "    else:\n",
    "        return (b-c)**2/(b+c)"
   ]
  },
  {
   "cell_type": "code",
   "execution_count": 3,
   "metadata": {},
   "outputs": [],
   "source": [
    "def LS(p,q,r,s,t,u): #local sensitivity\n",
    "    stat = TDT(p,q,r,s,t,u); v = np.zeros(0)\n",
    "    M = TDT(p,q,r,s,t,u); m = TDT(p,q,r,s,t,u)\n",
    "    if p >= 1:\n",
    "        v = [TDT(p-1,q+1,r,s,t,u), TDT(p-1,q,r+1,s,t,u), TDT(p-1,q,r,s+1,t,u), \n",
    "             TDT(p-1,q,r,s,t+1,u), TDT(p-1,q,r,s,t,u+1)]\n",
    "        M = max([max(v),M])\n",
    "        m = min([min(v),m])\n",
    "    if q >= 1:\n",
    "        v = [TDT(p+1,q-1,r,s,t,u), TDT(p,q-1,r+1,s,t,u), TDT(p,q-1,r,s+1,t,u), \n",
    "             TDT(p,q-1,r,s,t+1,u), TDT(p,q-1,r,s,t,u+1)]\n",
    "        M = max([max(v),M])\n",
    "        m = min([min(v),m])\n",
    "    if r >= 1:\n",
    "        v = [TDT(p+1,q,r-1,s,t,u), TDT(p,q+1,r-1,s,t,u), TDT(p,q,r-1,s+1,t,u), \n",
    "             TDT(p,q,r-1,s,t+1,u), TDT(p,q,r-1,s,t,u+1)]\n",
    "        M = max([max(v),M])\n",
    "        m = min([min(v),m])\n",
    "    if s >= 1:\n",
    "        v = [TDT(p+1,q,r,s-1,t,u), TDT(p,q+1,r,s-1,t,u), TDT(p,q,r+1,s-1,t,u), \n",
    "             TDT(p,q,r,s-1,t+1,u), TDT(p,q,r,s-1,t,u+1)]\n",
    "        M = max([max(v),M])\n",
    "        m = min([min(v),m])\n",
    "    if t >= 1:\n",
    "        v = [TDT(p+1,q,r,s,t-1,u), TDT(p,q+1,r,s,t-1,u), TDT(p,q,r+1,s,t-1,u), \n",
    "             TDT(p,q,r,s+1,t-1,u), TDT(p,q,r,s,t-1,u+1)]\n",
    "        M = max([max(v),M])\n",
    "        m = min([min(v),m])\n",
    "    if u >= 1:\n",
    "        v = [TDT(p+1,q,r,s,t,u-1), TDT(p,q+1,r,s,t,u-1), TDT(p,q,r+1,s,t,u-1), \n",
    "             TDT(p,q,r,s+1,t,u-1), TDT(p,q,r,s,t+1,u-1)]\n",
    "        M = max([max(v),M])\n",
    "        m = min([min(v),m])\n",
    "    \n",
    "    return max([M-stat, stat-m])"
   ]
  },
  {
   "cell_type": "code",
   "execution_count": 4,
   "metadata": {},
   "outputs": [],
   "source": [
    "def SS(table,beta): #smooth sensitivity\n",
    "    p = table[0]; q = table[1]; r = table[2]; s = table[3]; t = table[4]; u = table[5]\n",
    "    GS = 8; ls = LS(p,q,r,s,t,u)\n",
    "    if beta >= math.log(40/13):\n",
    "        return ls\n",
    "    else:\n",
    "        dist = int(math.ceil(math.log(GS/ls))/beta)\n",
    "        ss = 0\n",
    "        for yp in range(-dist,dist+1):\n",
    "            for yq in range(-dist,dist+1):\n",
    "                for yr in range(-dist,dist+1):\n",
    "                    for ys in range(-dist,dist+1):\n",
    "                        for yt in range(-dist,dist+1):\n",
    "                            yu = -yp-yq-yr-ys-yt\n",
    "                            if p+yp >= 0 and q+yq >= 0 and r+yr >= 0 and s+ys >= 0 and t+yt >= 0 and u+yu >= 0:\n",
    "                                dxy = (math.fabs(yp) + math.fabs(yq) + math.fabs(yr) + math.fabs(ys) + math.fabs(yt) + math.fabs(yu))/2\n",
    "                                if dxy <= dist:\n",
    "                                    ss = max([LS(p+yp,q+yq,r+yr,s+ys,t+yt,u+yu)*math.exp(-(beta*dxy)), ss])\n",
    "        return ss"
   ]
  },
  {
   "cell_type": "code",
   "execution_count": 5,
   "metadata": {},
   "outputs": [],
   "source": [
    "def generateData(n):\n",
    "    table = np.zeros(6)\n",
    "    table[0] = np.random.binomial(n,1/6)\n",
    "    table[1] = np.random.binomial(n-table[0],1/5)\n",
    "    table[2] = np.random.binomial(n-table[0]-table[1],1/4)\n",
    "    table[3] = np.random.binomial(n-table[0]-table[1]-table[2],1/3)\n",
    "    table[4] = np.random.binomial(n-table[0]-table[1]-table[2]-table[3],1/2)\n",
    "    table[5] = n-table[0]-table[1]-table[2]-table[3]-table[4]\n",
    "    return table"
   ]
  },
  {
   "cell_type": "code",
   "execution_count": 6,
   "metadata": {},
   "outputs": [],
   "source": [
    "def RunTime(N,beta):\n",
    "    t = 0\n",
    "    for i in range(100):\n",
    "        table = generateData(N)\n",
    "        s = time.time()\n",
    "        SS(table,beta)\n",
    "        e = time.time()\n",
    "        t += (e-s)\n",
    "    return t/100"
   ]
  },
  {
   "cell_type": "code",
   "execution_count": 7,
   "metadata": {},
   "outputs": [
    {
     "name": "stdout",
     "output_type": "stream",
     "text": [
      "14.216528306007385\n",
      "0.5188542032241821\n",
      "3.660440444946289e-05\n",
      "3.6301612854003904e-05\n"
     ]
    }
   ],
   "source": [
    "N = 1000; epsilon = [2,4,6,8]\n",
    "for i in range(4):\n",
    "    print(RunTime(N,epsilon[i]/4))"
   ]
  },
  {
   "cell_type": "code",
   "execution_count": 8,
   "metadata": {},
   "outputs": [
    {
     "name": "stdout",
     "output_type": "stream",
     "text": [
      "21.09646413087845\n",
      "0.642405366897583\n",
      "3.482341766357422e-05\n",
      "3.482580184936523e-05\n"
     ]
    }
   ],
   "source": [
    "N = 2000; epsilon = [2,4,6,8]\n",
    "for i in range(4):\n",
    "    print(RunTime(N,epsilon[i]/4))"
   ]
  },
  {
   "cell_type": "code",
   "execution_count": 9,
   "metadata": {},
   "outputs": [
    {
     "name": "stdout",
     "output_type": "stream",
     "text": [
      "28.927685837745667\n",
      "1.2068973350524903\n",
      "3.3807754516601565e-05\n",
      "3.45301628112793e-05\n"
     ]
    }
   ],
   "source": [
    "N = 5000; epsilon = [2,4,6,8]\n",
    "for i in range(4):\n",
    "    print(RunTime(N,epsilon[i]/4))"
   ]
  },
  {
   "cell_type": "code",
   "execution_count": null,
   "metadata": {},
   "outputs": [],
   "source": []
  }
 ],
 "metadata": {
  "kernelspec": {
   "display_name": "Python 3",
   "language": "python",
   "name": "python3"
  },
  "language_info": {
   "codemirror_mode": {
    "name": "ipython",
    "version": 3
   },
   "file_extension": ".py",
   "mimetype": "text/x-python",
   "name": "python",
   "nbconvert_exporter": "python",
   "pygments_lexer": "ipython3",
   "version": "3.9.0"
  }
 },
 "nbformat": 4,
 "nbformat_minor": 4
}
